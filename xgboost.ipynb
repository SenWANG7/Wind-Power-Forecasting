{
 "cells": [
  {
   "cell_type": "code",
   "execution_count": 13,
   "id": "967b8cf8-a247-46ec-b15f-a6e51a4ce325",
   "metadata": {
    "execution": {
     "iopub.execute_input": "2024-12-01T06:00:25.787554Z",
     "iopub.status.busy": "2024-12-01T06:00:25.786187Z",
     "iopub.status.idle": "2024-12-01T06:11:33.652162Z",
     "shell.execute_reply": "2024-12-01T06:11:33.651034Z",
     "shell.execute_reply.started": "2024-12-01T06:00:25.787503Z"
    },
    "scrolled": true
   },
   "outputs": [
    {
     "name": "stderr",
     "output_type": "stream",
     "text": [
      "/opt/conda/envs/python35-paddle120-env/lib/python3.7/site-packages/xgboost/sklearn.py:888: UserWarning: The use of label encoder in XGBClassifier is deprecated and will be removed in a future release. To remove this warning, do the following: 1) Pass option use_label_encoder=False when constructing XGBClassifier object; and 2) Encode your labels (y) as integers starting with 0, i.e. 0, 1, 2, ..., [num_class - 1].\r\n",
      "  warnings.warn(label_encoder_deprecation_msg, UserWarning)\r\n"
     ]
    },
    {
     "name": "stdout",
     "output_type": "stream",
     "text": [
      "[14:00:35] WARNING: ../src/learner.cc:1061: Starting in XGBoost 1.3.0, the default evaluation metric used with the objective 'multi:softprob' was changed from 'merror' to 'mlogloss'. Explicitly set eval_metric if you'd like to restore the old behavior.\r\n",
      "Accuracy: 0.9791271347248577\r\n",
      "Classification Report:\r\n",
      "              precision    recall  f1-score   support\r\n",
      "\r\n",
      "          -1       0.96      0.94      0.95       577\r\n",
      "           0       0.98      0.99      0.99      1345\r\n",
      "           1       0.99      0.99      0.99       183\r\n",
      "           2       1.00      0.98      0.99       180\r\n",
      "           3       0.99      0.97      0.98       252\r\n",
      "           4       1.00      1.00      1.00        19\r\n",
      "           5       0.98      1.00      0.99        63\r\n",
      "           6       0.83      0.94      0.88        16\r\n",
      "\r\n",
      "    accuracy                           0.98      2635\r\n",
      "   macro avg       0.97      0.98      0.97      2635\r\n",
      "weighted avg       0.98      0.98      0.98      2635\r\n",
      "\r\n",
      "   ZONEID      TIMESTAMP  TARGETVAR       U10       V10      U100      V100  \\\r\n",
      "0       9  20120101 1:00        0.0  1.903254 -1.495002  2.516723 -2.078063   \r\n",
      "1       9  20120101 2:00        0.0  2.173296 -0.643641  2.837109 -1.006914   \r\n",
      "2       9  20120101 3:00        0.0  2.312744  0.136595  3.034096 -0.015490   \r\n",
      "3       9  20120101 4:00        0.0  2.217565  0.797156  2.941829  0.823531   \r\n",
      "4       9  20120101 5:00        0.0  1.900598  1.285656  2.559177  1.471102   \r\n",
      "\r\n",
      "   Wind Speed (m/s)100  Wind Direction (°)100  \r\n",
      "0             3.263777             309.546553  \r\n",
      "1             3.010492             289.540198  \r\n",
      "2             3.034135             270.292518  \r\n",
      "3             3.054924             254.361017  \r\n",
      "4             2.951869             240.108243  \r\n",
      "Predicted Cluster: [ 0  0  0  0  0  0  0  0  0  0  0  0  0  0  0  0  0  0  0  0  0  0  0  0\r\n",
      "  0  0  0  0  0  0  0  0  0  0  0  0  0  0  0  0  0  0  0  0  0  0  0  0\r\n",
      "  0  0  0  0  0  0  0  0  0  0  0  0  0  0  0  0  0  0  0  0  0  0  0  0\r\n",
      "  0  0  0  0  0  0  0  0  0  0  0  0  0  0  5 -1 -1 -1 -1 -1 -1 -1 -1 -1\r\n",
      " -1 -1 -1 -1  0  0  0  0  0  0  0  0  0 -1 -1 -1 -1  1  1  2  2 -1 -1  2\r\n",
      "  3  3  3  3  3  3  3  6  0  0  0  0  0  0  0  0  0  0  0  0  0  0  0 -1\r\n",
      " -1  0  0  0  0  0  0  0  0  0  0  0  0  0  0  0  0  0  0  0  0  0  0  0\r\n",
      "  0  0  0  6  4 -1  6  6  0  0  0  0  0  0  0  0  0  0  0  0  0  0  0  0\r\n",
      "  0  0  0  0  0  0  0  0  0  0  0  0  0  0  0  0  0  0  0  0  0  0  0  0\r\n",
      "  0  0  0  0  0  0  0  0  0  0  0  0  0  0  0  0  0  0  0  0  0  0  0  0\r\n",
      "  0  0  0  0  0  0  0  0  0  0  0  0  0  0  0  0  0  0  0  0  0  0 -1  5\r\n",
      "  5  5  5  5  5  5  5 -1 -1 -1 -1 -1 -1 -1  5  5  5  5  5 -1 -1 -1 -1 -1\r\n",
      " -1 -1 -1 -1 -1  5  0  0  0  0  0  5 -1 -1 -1 -1 -1 -1 -1 -1 -1 -1 -1 -1\r\n",
      " -1 -1 -1 -1 -1 -1 -1 -1 -1 -1 -1 -1 -1 -1 -1 -1 -1 -1 -1 -1 -1 -1 -1 -1\r\n",
      " -1 -1 -1 -1 -1 -1 -1 -1 -1 -1 -1 -1 -1 -1 -1 -1 -1 -1 -1 -1 -1 -1 -1 -1\r\n",
      " -1 -1 -1 -1 -1 -1 -1 -1 -1 -1 -1 -1 -1 -1 -1 -1 -1 -1 -1 -1 -1 -1 -1 -1\r\n",
      " -1 -1 -1 -1 -1 -1 -1 -1 -1 -1 -1  1  2  2  1 -1  1  1  2  2  2  2  2  2\r\n",
      "  2  2  2  2 -1  3  3  3  2  1  0  0  0  0  0  0  0  0  0  0  0  0  0  0\r\n",
      "  0  0  0  0  0  0  0  0  0  0  0  0  0  0  0  0  0  0  0  0  0  0  0  0\r\n",
      "  0  0  0  0  0  0  5  5 -1 -1 -1 -1 -1 -1 -1  5 -1 -1  5  5  5  5 -1 -1\r\n",
      " -1 -1 -1 -1 -1 -1  5  5 -1 -1 -1 -1 -1 -1 -1 -1 -1 -1 -1 -1 -1 -1 -1 -1\r\n",
      " -1 -1 -1 -1 -1 -1 -1 -1 -1 -1 -1 -1 -1 -1 -1 -1 -1 -1 -1 -1 -1 -1 -1 -1\r\n",
      " -1  1  1 -1 -1 -1 -1 -1 -1  1  1  1 -1 -1 -1  1  2  2  2  1  1  1  1  1\r\n",
      "  2  2  3  3 -1  0  0  0  0  0  0  0  0  0  0  0  0  0  0  0  0  0  0  0\r\n",
      "  0  0  0  0  0  0  0  0  0  0  0  0  0  5  5 -1 -1 -1  0  0 -1 -1 -1 -1\r\n",
      " -1 -1 -1 -1 -1 -1  0  0  0  0  0  0  5 -1 -1 -1 -1 -1 -1  0  0  0  0  0\r\n",
      "  0  0  0  0  0  0  0  0  0  0  0  0  0  0  0  0  0  0  0  0  0  0  0  0\r\n",
      "  0  0  0  0  0  0  0  0  0  0  0  0  0  0  0  0  0  0  0  0  0  0  0  0]\r\n"
     ]
    }
   ],
   "source": [
    "import pandas as pd\n",
    "from sklearn.model_selection import train_test_split\n",
    "from xgboost import XGBClassifier\n",
    "from sklearn.metrics import classification_report, accuracy_score\n",
    "\n",
    "# 读取数据\n",
    "file_path = '/home/aistudio/clusterresult9.csv'  # 修改为你的文件路径\n",
    "data = pd.read_csv(file_path)\n",
    "\n",
    "# 将时间戳列转换为日期时间格式\n",
    "data['TIMESTAMP'] = pd.to_datetime(data['TIMESTAMP'])\n",
    "\n",
    "# 将数据按照时间顺序排序\n",
    "data.sort_values('TIMESTAMP', inplace=True)\n",
    "data_2012 = data[(data['TIMESTAMP'].dt.year == 2012)]\n",
    "\n",
    "# 准备数据\n",
    "X = data_2012[['Wind Speed (m/s)100', 'Wind Direction (°)100']]\n",
    "y = data_2012['cluster']\n",
    "\n",
    "# 划分训练集和测试集\n",
    "X_train, X_test, y_train, y_test = train_test_split(X, y, test_size=0.3, random_state=42)\n",
    "\n",
    "# 初始化并训练 XGBoost 分类器\n",
    "clf = XGBClassifier(random_state=42)\n",
    "clf.fit(X_train, y_train)\n",
    "\n",
    "# 在测试集上进行预测\n",
    "y_pred = clf.predict(X_test)\n",
    "\n",
    "# 评估模型\n",
    "accuracy = accuracy_score(y_test, y_pred)\n",
    "report = classification_report(y_test, y_pred)\n",
    "print(f\"Accuracy: {accuracy}\")\n",
    "print(f\"Classification Report:\\n{report}\")\n",
    "\n",
    "# 定义一个函数用于预测新的风速和风向数据的聚类结果\n",
    "def predict_cluster(windspeed, winddirection):\n",
    "    # 将新的风速和风向数据组合成DataFrame，确保它是二维格式\n",
    "    new_data = pd.DataFrame({\n",
    "        'Wind Speed (m/s)100': windspeed,\n",
    "        'Wind Direction (°)100': winddirection\n",
    "    })\n",
    "    \n",
    "    # 使用训练好的模型进行预测\n",
    "    prediction = clf.predict(new_data)\n",
    "    return prediction\n",
    "\n",
    "#------场景预测----\n",
    "# 加载CSV文件\n",
    "data1 = pd.read_csv('/home/aistudio/wind9_data.csv')\n",
    "\n",
    "# 查看数据的前几行，检查列名和数据类型\n",
    "print(data1.head())\n",
    "\n",
    "# 将时间戳列转换为日期时间格式\n",
    "data1['TIMESTAMP'] = pd.to_datetime(data1['TIMESTAMP'])\n",
    "\n",
    "# 将数据按照时间顺序排序\n",
    "data1.sort_values('TIMESTAMP', inplace=True)\n",
    "\n",
    "# 获取2013年2月的数据\n",
    "data_201302 = data1[(data1['TIMESTAMP'].dt.year == 2013) & (data1['TIMESTAMP'].dt.month == 2)]\n",
    "\n",
    "# 示例：预测新的风速和风向数据\n",
    "new_windspeed = data_201302['Wind Speed (m/s)100']\n",
    "new_winddirection = data_201302['Wind Direction (°)100']\n",
    "\n",
    "# 调用预测函数\n",
    "predicted_cluster = predict_cluster(new_windspeed, new_winddirection)\n",
    "\n",
    "# 输出预测结果\n",
    "print(f\"Predicted Cluster: {predicted_cluster}\")"
   ]
  },
  {
   "cell_type": "code",
   "execution_count": null,
   "id": "0eaaae29-2cc8-4a21-8669-256ba56a7838",
   "metadata": {
    "execution": {
     "iopub.execute_input": "2024-12-01T06:11:33.675778Z",
     "iopub.status.busy": "2024-12-01T06:11:33.675219Z",
     "iopub.status.idle": "2024-12-01T06:11:33.693068Z"
    },
    "scrolled": true
   },
   "outputs": [
    {
     "name": "stdout",
     "output_type": "stream",
     "text": [
      "Predicted clusters saved to: /home/aistudio/WF9_cluster_201302.csv\r\n"
     ]
    },
    {
     "name": "stderr",
     "output_type": "stream",
     "text": [
      "/opt/conda/envs/python35-paddle120-env/lib/python3.7/site-packages/ipykernel_launcher.py:2: SettingWithCopyWarning: \r\n",
      "A value is trying to be set on a copy of a slice from a DataFrame.\r\n",
      "Try using .loc[row_indexer,col_indexer] = value instead\r\n",
      "\r\n",
      "See the caveats in the documentation: https://pandas.pydata.org/pandas-docs/stable/user_guide/indexing.html#returning-a-view-versus-a-copy\r\n",
      "  \r\n"
     ]
    }
   ],
   "source": [
    "# 将预测结果添加到原始数据\n",
    "data_201302['Predicted Cluster'] = predicted_cluster\n",
    "\n",
    "# 保存到新的CSV文件\n",
    "output_file = '/home/aistudio/WF9_cluster_201302.csv'\n",
    "data_201302.to_csv(output_file, index=False)\n",
    "\n",
    "print(f\"Predicted clusters saved to: {output_file}\")"
   ]
  },
  {
   "cell_type": "code",
   "execution_count": 5,
   "id": "1d22b340-074e-4360-9738-828971574313",
   "metadata": {
    "execution": {
     "iopub.execute_input": "2024-12-02T08:12:05.261267Z",
     "iopub.status.busy": "2024-12-02T08:12:05.260602Z",
     "iopub.status.idle": "2024-12-02T08:12:05.282888Z",
     "shell.execute_reply": "2024-12-02T08:12:05.281758Z",
     "shell.execute_reply.started": "2024-12-02T08:12:05.261232Z"
    },
    "scrolled": true
   },
   "outputs": [
    {
     "name": "stdout",
     "output_type": "stream",
     "text": [
      "0    0\r\n",
      "1    0\r\n",
      "2    0\r\n",
      "3    0\r\n",
      "4    0\r\n",
      "Name: Predicted Cluster, dtype: int64\r\n",
      "count    672.000000\r\n",
      "mean       0.059524\r\n",
      "std        1.387414\r\n",
      "min       -1.000000\r\n",
      "25%       -1.000000\r\n",
      "50%        0.000000\r\n",
      "75%        0.000000\r\n",
      "max        6.000000\r\n",
      "Name: Predicted Cluster, dtype: float64\r\n",
      "簇 0 包含 364 个数据点\r\n",
      "簇 -1 包含 224 个数据点\r\n",
      "簇 5 包含 28 个数据点\r\n",
      "簇 2 包含 21 个数据点\r\n",
      "簇 1 包含 18 个数据点\r\n",
      "簇 3 包含 12 个数据点\r\n",
      "簇 6 包含 4 个数据点\r\n",
      "簇 4 包含 1 个数据点\r\n",
      "\r\n",
      "数据被分为 8 个簇（包括噪声点作为一个簇）\r\n"
     ]
    }
   ],
   "source": [
    "import pandas as pd\n",
    "#加载数据\n",
    "data = pd.read_csv('/home/aistudio/WF9_cluster_201302.csv')\n",
    "\n",
    "cluster1302 = data['Predicted Cluster']\n",
    "\n",
    "\n",
    "# 打印前五行数据\n",
    "print(cluster1302.head())\n",
    "\n",
    "# 使用 .describe() 方法来查看每列的描述性统计信息\n",
    "print(cluster1302.describe())\n",
    "\n",
    "# === 获取簇的数量 ===\n",
    "\n",
    "# 统计每个簇的数量\n",
    "cluster_counts = cluster1302.value_counts()\n",
    "\n",
    "# 输出每个簇的数量，包括噪声点（标签为-1）\n",
    "for cluster_label, count in cluster_counts.items():\n",
    "    print(f\"簇 {cluster_label} 包含 {count} 个数据点\")\n",
    "\n",
    "# 计算总簇的数量（包括噪声点）\n",
    "num_clusters = len(cluster_counts)\n",
    "\n",
    "print(f\"\\n数据被分为 {num_clusters} 个簇（包括噪声点作为一个簇）\")"
   ]
  },
  {
   "cell_type": "code",
   "execution_count": null,
   "id": "bab3b5f8-ced6-4865-b882-90d9a2ba519d",
   "metadata": {
    "scrolled": true
   },
   "outputs": [],
   "source": []
  }
 ],
 "metadata": {
  "kernelspec": {
   "display_name": "Python 3",
   "language": "python",
   "name": "py35-paddle1.2.0"
  },
  "language_info": {
   "codemirror_mode": {
    "name": "ipython",
    "version": 3
   },
   "file_extension": ".py",
   "mimetype": "text/x-python",
   "name": "python",
   "nbconvert_exporter": "python",
   "pygments_lexer": "ipython3",
   "version": "3.7.4"
  }
 },
 "nbformat": 4,
 "nbformat_minor": 5
}
